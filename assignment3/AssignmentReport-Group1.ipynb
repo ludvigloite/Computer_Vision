{
 "cells": [
  {
   "cell_type": "markdown",
   "metadata": {},
   "source": [
    "# Assignment 1 Report"
   ]
  },
  {
   "cell_type": "markdown",
   "metadata": {},
   "source": [
    "This is an outline for your report to ease the amount of work required to create your report. Jupyter notebook supports markdown, and I recommend you to check out this [cheat sheet](https://github.com/adam-p/markdown-here/wiki/Markdown-Cheatsheet). If you are not familiar with markdown.\n",
    "\n",
    "Before delivery, **remember to convert this file to PDF**. You can do it in two ways:\n",
    "1. Print the webpage (ctrl+P or cmd+P)\n",
    "2. Export with latex. This is somewhat more difficult, but you'll get somehwat of a \"prettier\" PDF. Go to File -> Download as -> PDF via LaTeX. You might have to install nbconvert and pandoc through conda; `conda install nbconvert pandoc`."
   ]
  },
  {
   "cell_type": "markdown",
   "metadata": {},
   "source": [
    "# Task 1"
   ]
  },
  {
   "cell_type": "markdown",
   "metadata": {},
   "source": [
    "## task 1a)\n",
    "\n",
    "Fill in image of hand-written notes which are easy to read, or latex equations here"
   ]
  },
  {
   "cell_type": "markdown",
   "metadata": {},
   "source": [
    "## task 1b)\n",
    "\n",
    "Fill in image of hand-written notes which are easy to read, or latex equations here\n",
    "\n",
    "## task 1c)\n",
    "\n",
    "Fill in task 1a image of hand-written notes which are easy to read, or latex equations here\n",
    "\n",
    "## task 1c)\n",
    "\n",
    "Fill in task 1a image of hand-written notes which are easy to read, or latex equations here\n",
    "## task 1d)\n",
    "\n",
    "Fill in task 1a image of hand-written notes which are easy to read, or latex equations here\n",
    "## task 1e)\n",
    "\n",
    "Fill in task 1a image of hand-written notes which are easy to read, or latex equations here\n",
    "## task 1f)\n",
    "\n",
    "Fill in task 1a image of hand-written notes which are easy to read, or latex equations here\n",
    "## task 1g)\n",
    "\n",
    "Fill in task 1a image of hand-written notes which are easy to read, or latex equations here"
   ]
  },
  {
   "cell_type": "markdown",
   "metadata": {},
   "source": [
    "# Task 2\n",
    "\n",
    "### Task 2a)\n",
    "![](plots/task2_plot.png)\n",
    "\n",
    "### Task 2b)\n",
    "Our final test accuracies were the following:\n",
    "- Training set accuracy: 87,9%\n",
    "- Validation set accuracy: 73,5%\n",
    "- Testing set accuracy: 73,4%"
   ]
  },
  {
   "cell_type": "markdown",
   "metadata": {},
   "source": [
    "# Task 3"
   ]
  },
  {
   "cell_type": "markdown",
   "metadata": {},
   "source": [
    "### Task 3a)\n",
    "#### Model 1\n",
    "During the tuning process we tried tweaking the parameters mentioned below, as well as the activation function. Model 1 represents the parameter tuning that gave the best performance increase considering each parameter separately.\n",
    "\n",
    "This model is altered from the original task 2 model in the following:\n",
    "* Data augmentation where 50% of the dataset is randomly mirrored and 10% has introduced contrast and saturation jitter.\n",
    "* Filter size is reduced to 3x3.\n",
    "* Batch normalization is introduced after every convolutional and fully connected layer.\n",
    "* As is shown in the table below, the number of filters is increased and the network achitecture is deeper.\n",
    "* Training details are unaltered and default, including optimizer, regularization, learning rate and batch size \n",
    "\n",
    "| Layer |  Layer Type  | Hidden units/filters | Activation f. |\n",
    "|:-----:|:------------:|:--------------------:|:-------------:|\n",
    "|   1   |    Conv2D    |          64          |      ReLU     |\n",
    "|   1   |    Conv2D    |          64          |      ReLU     |\n",
    "|   1   |   MaxPool2D  |          -           |       -       |\n",
    "|   2   |    Conv2D    |         128          |      ReLU     |\n",
    "|   2   |    Conv2D    |         128          |      ReLU     |\n",
    "|   2   |   MaxPool2D  |          -           |       -       |\n",
    "|   3   |    Conv2D    |         256          |      ReLU     |\n",
    "|   3   |    Conv2D    |         256          |      ReLU     |\n",
    "|   3   |   MaxPool2D  |          -           |       -       |\n",
    "|-------|--------------|----------------------|---------------|\n",
    "|       |    Flatten   |          -           |      ReLU     |\n",
    "|   4   |     FCNN     |          64          |      ReLU     |\n",
    "|   5   |     FCNN     |          10          |       -       |\n",
    "\n",
    "#### Model 2\n",
    "Model 2 represents the parameter tuning that gave the best performance increase considering considering all alterations in conjunction.\n",
    "\n",
    "This model is altered from the original task 2 model in the following:\n",
    "* Data augmentation where 50% of the dataset is randomly mirrored and **20%** has introduced contrast and saturation jitter.\n",
    "* Filter size is reduced to 3x3.\n",
    "* Batch normalization is introduced after every convolutional and fully connected layer.\n",
    "* As is shown in the table below, the number of filters is increased and the network achitecture is deeper.\n",
    "* Training details are unaltered and default, including optimizer, regularization, learning rate and batch size \n",
    "\n",
    "Model 2 differs from model 1 only in the degree of data augmentation. It turns out that when the model is deeper, more generalized and complex, it responds better to a more diverse dataset. \n",
    "\n",
    "| Layer |  Layer Type  | Hidden units/filters | Activation f. |\n",
    "|:-----:|:------------:|:--------------------:|:-------------:|\n",
    "|   1   |    Conv2D    |          64          |      ReLU     |\n",
    "|   1   |    Conv2D    |          64          |      ReLU     |\n",
    "|   1   |   MaxPool2D  |          -           |       -       |\n",
    "|   2   |    Conv2D    |         128          |      ReLU     |\n",
    "|   2   |    Conv2D    |         128          |      ReLU     |\n",
    "|   2   |   MaxPool2D  |          -           |       -       |\n",
    "|   3   |    Conv2D    |         256          |      ReLU     |\n",
    "|   3   |    Conv2D    |         256          |      ReLU     |\n",
    "|   3   |   MaxPool2D  |          -           |       -       |\n",
    "|-------|--------------|----------------------|---------------|\n",
    "|       |    Flatten   |          -           |      ReLU     |\n",
    "|   4   |     FCNN     |          64          |      ReLU     |\n",
    "|   5   |     FCNN     |          10          |       -       |\n",
    "\n",
    "### Task 3b)\n",
    "#### Model performance comparison\n",
    "|                     | Model 1 | Model 2 |\n",
    "|---------------------|:-------:|:-------:|\n",
    "| Training accuracy   |  83,7%  |  87,2%  |\n",
    "| Validation accuracy |  79,8%  |  83,2%  |\n",
    "| Testing accuracy    |  79,5%  |  82,7%  |\n",
    "\n",
    "#### Model 2 performance\n",
    "![](plots/task3_model2_plot.png)\n",
    "\n",
    "### Task 3c)\n",
    "### Task 3d)\n",
    "### Task 3e)\n",
    "### Task 3f)"
   ]
  },
  {
   "cell_type": "markdown",
   "metadata": {},
   "source": [
    "# Task 4"
   ]
  },
  {
   "cell_type": "markdown",
   "metadata": {},
   "source": [
    "## Task 4a)\n",
    "\n",
    "FILL IN ANSWER. "
   ]
  },
  {
   "cell_type": "markdown",
   "metadata": {},
   "source": [
    "## Task 4b)\n",
    "FILL IN ANSWER\n"
   ]
  },
  {
   "cell_type": "markdown",
   "metadata": {},
   "source": [
    "## Task 4c)\n",
    "FILL IN ANSWER"
   ]
  }
 ],
 "metadata": {
  "kernelspec": {
   "display_name": "Python 3",
   "language": "python",
   "name": "python3"
  },
  "language_info": {
   "codemirror_mode": {
    "name": "ipython",
    "version": 3
   },
   "file_extension": ".py",
   "mimetype": "text/x-python",
   "name": "python",
   "nbconvert_exporter": "python",
   "pygments_lexer": "ipython3",
   "version": "3.8.5"
  }
 },
 "nbformat": 4,
 "nbformat_minor": 4
}
