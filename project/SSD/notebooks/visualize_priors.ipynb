{
 "cells": [
  {
   "cell_type": "markdown",
   "metadata": {},
   "source": [
    "This script is to visualize the priors/anchors of the SSD framework. The code comes with little documentation, but in essence it visualizes the priors for different feature maps of the SSD framework.\n",
    "This way you can visualize where they are placed on the original image, how large they are and how many priors there are."
   ]
  },
  {
   "cell_type": "code",
   "execution_count": 1,
   "metadata": {},
   "outputs": [],
   "source": [
    "import matplotlib.pyplot as plt\n",
    "import matplotlib\n",
    "import sys\n",
    "import torch\n",
    "import numpy as np\n",
    "import pathlib\n",
    "path = pathlib.Path()\n",
    "# Insert all modules a folder above\n",
    "sys.path.insert(0, str(path.absolute().parent))\n",
    "from ssd.config.defaults import cfg\n",
    "from ssd.modeling.box_head.prior_box import PriorBox\n",
    "from ssd.utils.box_utils import convert_locations_to_boxes\n",
    "def plot_bbox(ax, box, color, circle=True):\n",
    "    cx, cy, w, h = box\n",
    "    cx *= cfg.INPUT.IMAGE_SIZE[1]\n",
    "    cy *= cfg.INPUT.IMAGE_SIZE[0]\n",
    "    w *= cfg.INPUT.IMAGE_SIZE[1]\n",
    "    h *= cfg.INPUT.IMAGE_SIZE[0]\n",
    "    x1, y1 = cx + w/2, cy + h/2\n",
    "    x0, y0 = cx - w/2, cy - h/2\n",
    "    if circle:\n",
    "        ax.add_artist(matplotlib.patches.Ellipse([cx, cy], w,h, alpha=.1, color=color))\n",
    "        plt.plot(cx, cy, f\"o{color}\")\n",
    "    else:\n",
    "        plt.plot([x0, x0, x1, x1, x0],[y0, y1, y1, y0, y0], f\"{color}\", alpha=.1)"
   ]
  },
  {
   "cell_type": "code",
   "execution_count": 4,
   "metadata": {},
   "outputs": [],
   "source": [
    "config_path = \"../configs/train_rdd2020_server.yaml\"\n",
    "cfg.merge_from_file(config_path)\n",
    "PLOT_CIRCLE = True\n",
    "# Set which priors we want to visualize\n",
    "# 0 is the last layer\n",
    "layer_to_visualize = 5\n",
    "# Set which aspect ratio indices we want to visualize\n",
    "aspect_ratio_indices = [2]"
   ]
  },
  {
   "cell_type": "code",
   "execution_count": 5,
   "metadata": {},
   "outputs": [
    {
     "name": "stdout",
     "output_type": "stream",
     "text": [
      "Prior box shape: torch.Size([8732, 4])\n",
      "First prior example: tensor([0.0200, 0.0067, 0.0707, 0.0707])\n"
     ]
    },
    {
     "data": {
      "image/png": "[encoded data removed]",
      "text/plain": [
       "<Figure size 432x288 with 1 Axes>"
      ]
     },
     "metadata": {
      "needs_background": "light"
     },
     "output_type": "display_data"
    }
   ],
   "source": [
    "fig, ax = plt.subplots()\n",
    "# Create prior box\n",
    "prior_box = PriorBox(cfg)\n",
    "priors = prior_box()\n",
    "print(\"Prior box shape:\", priors.shape)\n",
    "# Prior boxes are saved such that all prior boxes at the first feature map is saved first, then all prios at the next (lower) feature map\n",
    "print(\"First prior example:\", priors[5])\n",
    "locations = torch.zeros_like(priors)[None]\n",
    "priors_as_location = convert_locations_to_boxes(locations, priors,cfg.MODEL.CENTER_VARIANCE, cfg.MODEL.SIZE_VARIANCE)[0]\n",
    "\n",
    "# Set up our scene\n",
    "plt.ylim([-100, cfg.INPUT.IMAGE_SIZE[0]+100])\n",
    "plt.xlim([-100, cfg.INPUT.IMAGE_SIZE[1]+100])\n",
    "\n",
    "\n",
    "def get_num_boxes_in_fmap(idx):\n",
    "    boxes_per_location = cfg.MODEL.PRIORS.BOXES_PER_LOCATION[idx]\n",
    "    feature_map_size = cfg.MODEL.PRIORS.FEATURE_MAPS[idx]\n",
    "    return int(boxes_per_location * np.prod(feature_map_size))\n",
    "\n",
    "offset = sum([get_num_boxes_in_fmap(prev_layer) for prev_layer in range(layer_to_visualize)])\n",
    "boxes_per_location = cfg.MODEL.PRIORS.BOXES_PER_LOCATION[layer_to_visualize]\n",
    "indices_to_visualize = []\n",
    "colors = []\n",
    "available_colors = [\"r\", \"g\", \"b\", \"y\", \"m\", \"b\",\"w\"]\n",
    "for idx in range(offset, offset + get_num_boxes_in_fmap(layer_to_visualize)):\n",
    "    for aspect_ratio_idx in aspect_ratio_indices:\n",
    "        if idx % boxes_per_location == aspect_ratio_idx:\n",
    "            indices_to_visualize.append(idx)\n",
    "            colors.append(available_colors[aspect_ratio_idx])\n",
    "ax.add_artist(plt.Rectangle([0, 0], cfg.INPUT.IMAGE_SIZE[1], cfg.INPUT.IMAGE_SIZE[0]))\n",
    "for i, idx in enumerate(indices_to_visualize):\n",
    "    prior = priors_as_location[idx]\n",
    "    color = colors[i]\n",
    "    plot_bbox(ax, prior, color, PLOT_CIRCLE)"
   ]
  },
  {
   "cell_type": "code",
   "execution_count": null,
   "metadata": {},
   "outputs": [],
   "source": []
  }
 ],
 "metadata": {
  "kernelspec": {
   "display_name": "Python 3",
   "language": "python",
   "name": "python3"
  },
  "language_info": {
   "codemirror_mode": {
    "name": "ipython",
    "version": 3
   },
   "file_extension": ".py",
   "mimetype": "text/x-python",
   "name": "python",
   "nbconvert_exporter": "python",
   "pygments_lexer": "ipython3",
   "version": "3.8.5"
  }
 },
 "nbformat": 4,
 "nbformat_minor": 4
}
